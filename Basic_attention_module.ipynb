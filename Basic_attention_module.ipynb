{
  "nbformat": 4,
  "nbformat_minor": 0,
  "metadata": {
    "colab": {
      "provenance": [],
      "authorship_tag": "ABX9TyNuO6HupKlV1s9TKhi5CMuL"
    },
    "kernelspec": {
      "name": "python3",
      "display_name": "Python 3"
    },
    "language_info": {
      "name": "python"
    }
  },
  "cells": [
    {
      "cell_type": "code",
      "execution_count": 1,
      "metadata": {
        "id": "48_kh6vaBZSw"
      },
      "outputs": [],
      "source": [
        "import numpy as np\n",
        "import pandas as pd\n",
        "np.random.seed(123)"
      ]
    },
    {
      "cell_type": "code",
      "source": [
        "# Dimensions de practica de 256 -> 4\n",
        "d_model = 4\n",
        "d_ff = 5\n",
        "d_k = 3\n",
        "d_v = 3"
      ],
      "metadata": {
        "id": "_3MJcoyTBj4D"
      },
      "execution_count": 2,
      "outputs": []
    },
    {
      "cell_type": "code",
      "source": [
        "# Word embeddings (random, aun sin dataset)\n",
        "me_ = np.random.randn(d_model)\n",
        "gusta_ = np.random.randn(d_model)\n",
        "estudiar_ = np.random.randn(d_model)\n",
        "inteligencia_ = np.random.randn(d_model)\n",
        "artificial_ = np.random.randn(d_model)"
      ],
      "metadata": {
        "id": "xEhnjeLTBuC8"
      },
      "execution_count": 3,
      "outputs": []
    },
    {
      "cell_type": "code",
      "source": [
        "# Positional embedings\n",
        "pos_1 = np.array([0.3, -0.9, -0.6, 0.8])\n",
        "pos_2 = np.array([-.6, 0.8, -0.9, 0.15])\n",
        "pos_3 = np.array([0.8, -0.5, -0.9, 0.5])\n",
        "pos_4 = np.array([-0.95, 0.2, -0.4, -0.9])\n",
        "pos_5 = np.array([0.95, 0.16, 0.2, -0.95])"
      ],
      "metadata": {
        "id": "JuER7B6fZ7Cm"
      },
      "execution_count": 5,
      "outputs": []
    },
    {
      "cell_type": "code",
      "source": [
        "me_embed_pos = me_ + pos_1\n",
        "gusta_embed_pos = gusta_ + pos_2\n",
        "estudiar_embed_pos = estudiar_ + pos_3\n",
        "inteligencia_embed_pos = inteligencia_ + pos_4\n",
        "artificial_embed_pos = artificial_ + pos_5"
      ],
      "metadata": {
        "id": "wYd9HUMbaKFl"
      },
      "execution_count": 6,
      "outputs": []
    },
    {
      "cell_type": "code",
      "source": [
        "# Projection matrices\n",
        "W_q = np.random.randn(d_model, d_k) * 0.1\n",
        "W_k = np.random.randn(d_model, d_k) * 0.1\n",
        "W_v = np.random.randn(d_model, d_v) * 0.1"
      ],
      "metadata": {
        "id": "gcrnJNzBaVU4"
      },
      "execution_count": 7,
      "outputs": []
    },
    {
      "cell_type": "code",
      "source": [
        "me_query = me_embed_pos @ W_q\n",
        "me_key = me_embed_pos @ W_k\n",
        "me_value = me_embed_pos @ W_v\n",
        "\n",
        "gusta_query = gusta_embed_pos @ W_q\n",
        "gusta_key = gusta_embed_pos @ W_k\n",
        "gusta_value = gusta_embed_pos @ W_v\n",
        "\n",
        "estudiar_query = estudiar_embed_pos @ W_q\n",
        "estudiar_key = estudiar_embed_pos @ W_k\n",
        "estudiar_value = estudiar_embed_pos @ W_v\n",
        "\n",
        "inteligencia_query = inteligencia_embed_pos @ W_q\n",
        "inteligencia_key = inteligencia_embed_pos @ W_k\n",
        "inteligencia_value = inteligencia_embed_pos @ W_v\n",
        "\n",
        "artificial_query = artificial_embed_pos @ W_q\n",
        "artificial_key = artificial_embed_pos @ W_k\n",
        "artificial_value = artificial_embed_pos @ W_v"
      ],
      "metadata": {
        "id": "QaRn-Q6hah7h"
      },
      "execution_count": 8,
      "outputs": []
    },
    {
      "cell_type": "code",
      "source": [
        "# Similarities\n",
        "def softmax(x):\n",
        "    x -= np.max(x, axis=1, keepdims=True)\n",
        "    return np.exp(x) / np.exp(x).sum(axis=1, keepdims=True)"
      ],
      "metadata": {
        "id": "BvbrQ6m8a3uc"
      },
      "execution_count": 10,
      "outputs": []
    },
    {
      "cell_type": "code",
      "source": [
        "# .T = Transpuesta\n",
        "me_alpha_me = me_query @ me_key.T\n",
        "me_alpha_gusta = me_query @ gusta_key.T\n",
        "me_alpha_estudiar = me_query @ estudiar_key.T\n",
        "me_alpha_inteligencia = me_query @ inteligencia_key.T\n",
        "me_alpha_artificial = me_query @ artificial_key.T\n",
        "\n",
        "me_alphas = softmax(([[me_alpha_me, me_alpha_gusta,\n",
        "                     me_alpha_estudiar, me_alpha_inteligencia,\n",
        "                    me_alpha_artificial]]))"
      ],
      "metadata": {
        "id": "inc_QzIGbd4n"
      },
      "execution_count": 13,
      "outputs": []
    },
    {
      "cell_type": "code",
      "source": [
        "me_attention = np.array([me_alphas[:, 0] * me_value +\n",
        "                         me_alphas[:, 1] * gusta_value +\n",
        "                         me_alphas[:, 2] * estudiar_value +\n",
        "                         me_alphas[:, 3] * inteligencia_value +\n",
        "                         me_alphas[:, 4] * artificial_value])"
      ],
      "metadata": {
        "id": "wC0gNxpwb8_H"
      },
      "execution_count": 16,
      "outputs": []
    },
    {
      "cell_type": "code",
      "source": [
        "me_attention\n"
      ],
      "metadata": {
        "colab": {
          "base_uri": "https://localhost:8080/"
        },
        "id": "JCvyz5jrcp8c",
        "outputId": "5c8ccddb-db43-448c-ed47-b3485d3e6a51"
      },
      "execution_count": 17,
      "outputs": [
        {
          "output_type": "execute_result",
          "data": {
            "text/plain": [
              "array([[0.21879221, 0.16280812, 0.11939328]])"
            ]
          },
          "metadata": {},
          "execution_count": 17
        }
      ]
    },
    {
      "cell_type": "code",
      "source": [
        "X = np.array([[me_embed_pos],\n",
        "              [gusta_embed_pos],\n",
        "              [estudiar_embed_pos],\n",
        "              [inteligencia_embed_pos],\n",
        "              [artificial_embed_pos]]).reshape(-1, d_model)"
      ],
      "metadata": {
        "id": "2FghzFM0c6j8"
      },
      "execution_count": 20,
      "outputs": []
    },
    {
      "cell_type": "code",
      "source": [
        "Q = X @ W_q\n",
        "K = X @ W_k\n",
        "V = X @ W_v\n",
        "print(\"Q\\n\",Q)\n",
        "print(\"K\\n\",K)\n",
        "print(\"V\\n\",V)"
      ],
      "metadata": {
        "colab": {
          "base_uri": "https://localhost:8080/"
        },
        "id": "gazsmbhId4kW",
        "outputId": "5e9ac8c9-3887-4a61-b6fd-769af514f357"
      },
      "execution_count": 26,
      "outputs": [
        {
          "output_type": "stream",
          "name": "stdout",
          "text": [
            "Q\n",
            " [[-1.43756640e-02 -6.59759165e-02  2.69417101e-01]\n",
            " [-7.63886211e-02 -6.72812458e-04  7.86092247e-02]\n",
            " [-1.86517395e-01  6.94561065e-01 -1.97482288e-01]\n",
            " [ 2.67433306e-02  2.90426435e-01  3.62577608e-01]\n",
            " [ 6.66457559e-01  1.85969456e-02 -3.04086030e-01]]\n",
            "K\n",
            " [[ 2.87394374e-01  7.36296509e-02 -8.11605067e-02]\n",
            " [ 5.07007664e-01 -2.65817462e-04  3.11318122e-01]\n",
            " [-2.73408077e-01 -2.05603482e-01  2.47959689e-01]\n",
            " [ 2.16475020e-01 -9.79340587e-03  1.14112445e-02]\n",
            " [-6.08324603e-01 -1.64018766e-01  3.24889383e-01]]\n",
            "V\n",
            " [[ 0.07481096  0.0412923  -0.29696888]\n",
            " [ 0.51407634  0.58606888 -0.34319929]\n",
            " [ 0.18549254  0.02900396 -0.04362257]\n",
            " [ 0.21591613  0.04011366 -0.25856286]\n",
            " [ 0.092939    0.0992055   1.42992098]]\n"
          ]
        }
      ]
    },
    {
      "cell_type": "code",
      "source": [
        "alphas=softmax(Q@K.T)\n",
        "print(alphas)"
      ],
      "metadata": {
        "colab": {
          "base_uri": "https://localhost:8080/"
        },
        "id": "SENPmvaseALb",
        "outputId": "905ff77e-56a5-4386-b0e1-cda6fdb564f6"
      },
      "execution_count": 23,
      "outputs": [
        {
          "output_type": "stream",
          "name": "stdout",
          "text": [
            "[[0.18465934 0.20560799 0.20719656 0.1905618  0.21197432]\n",
            " [0.19215574 0.19488943 0.20586176 0.19462152 0.21247155]\n",
            " [0.21907906 0.18486734 0.18774642 0.20570368 0.2026035 ]\n",
            " [0.1915041  0.21737526 0.19600622 0.19293412 0.20218031]\n",
            " [0.24656792 0.25297203 0.152721   0.22830251 0.11943654]]\n"
          ]
        }
      ]
    },
    {
      "cell_type": "code",
      "source": [
        "attn_scores = alphas @ V\n",
        "print(attn_scores)"
      ],
      "metadata": {
        "colab": {
          "base_uri": "https://localhost:8080/"
        },
        "id": "C5jBFbqQeGKi",
        "outputId": "ff70f9c7-962e-4c53-96be-424507952327"
      },
      "execution_count": 24,
      "outputs": [
        {
          "output_type": "stream",
          "name": "stdout",
          "text": [
            "[[ 0.21879221  0.16280812  0.11939328]\n",
            " [ 0.21451804  0.15700932  0.12056522]\n",
            " [ 0.20949551  0.15118757  0.09982367]\n",
            " [ 0.2228798   0.16878617  0.09919218]\n",
            " [ 0.23721603  0.18387671 -0.05495064]]\n"
          ]
        }
      ]
    }
  ]
}